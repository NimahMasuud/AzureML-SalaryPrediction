{
  "cells": [
    {
      "cell_type": "code",
      "source": [
        "# Import all necessary libraries\n",
        "import os\n",
        "from azure.identity import DefaultAzureCredential, AzureCliCredential\n",
        "from azure.ai.ml import automl, Input, MLClient, command\n",
        "from azure.ai.ml.constants import AssetTypes\n",
        "from azure.ai.ml.entities import Data\n",
        "from azure.ai.ml.automl import (\n",
        "    classification,\n",
        "    ClassificationPrimaryMetrics,\n",
        "    ClassificationModels,\n",
        ")"
      ],
      "outputs": [],
      "execution_count": 1,
      "metadata": {
        "gather": {
          "logged": 1736784471415
        }
      }
    },
    {
      "cell_type": "code",
      "source": [
        "from azure.identity import DefaultAzureCredential\n",
        "from azure.ai.ml import MLClient\n",
        "\n",
        "try:\n",
        "    credential = DefaultAzureCredential()\n",
        "except Exception as ex:\n",
        "    print(\"Authentication failed:\", ex)\n",
        "\n",
        "# Automatically loads configuration from config.json or config.yaml\n",
        "ml_client = MLClient.from_config(credential=credential)\n",
        "\n",
        "# Verify the connection\n",
        "workspace = ml_client.workspaces.get(ml_client.workspace_name)\n",
        "print(workspace.location, \":\", workspace.resource_group)\n"
      ],
      "outputs": [
        {
          "output_type": "stream",
          "name": "stderr",
          "text": "Found the config file in: ./config.json\n"
        },
        {
          "output_type": "stream",
          "name": "stdout",
          "text": "uksouth : ML_Project\n"
        }
      ],
      "execution_count": 2,
      "metadata": {
        "jupyter": {
          "source_hidden": false,
          "outputs_hidden": false
        },
        "nteract": {
          "transient": {
            "deleting": false
          }
        },
        "gather": {
          "logged": 1736784477998
        }
      }
    },
    {
      "cell_type": "code",
      "source": [
        "training_data_input = Input(\n",
        "    type=AssetTypes.MLTABLE, path=\"azureml:salary_data:1\"\n",
        ")"
      ],
      "outputs": [],
      "execution_count": 3,
      "metadata": {
        "jupyter": {
          "source_hidden": false,
          "outputs_hidden": false
        },
        "nteract": {
          "transient": {
            "deleting": false
          }
        },
        "gather": {
          "logged": 1736784483716
        }
      }
    },
    {
      "cell_type": "code",
      "source": [
        "from azure.ai.ml import automl\n",
        "\n",
        "# Define the regression job\n",
        "regression_job = automl.regression(\n",
        "    compute=\"Nmasuud1\",  # Replace with your actual compute cluster name\n",
        "    experiment_name=\"salary_prediction\",  # Updated experiment name\n",
        "    training_data=training_data_input,  # Replace with your input data reference\n",
        "    target_column_name=\"Salary\",  # Target variable is 'Salary'\n",
        "    primary_metric=\"r2_score\",  # Use R-squared as the primary metric\n",
        "    n_cross_validations=5,  # Use 5-fold cross-validation\n",
        "    enable_model_explainability=True  # Enable explainability features\n",
        ")\n",
        "\n",
        "# Set limits for the regression job\n",
        "regression_job.set_limits(\n",
        "    timeout_minutes=30,  # Total timeout for the job\n",
        "    trial_timeout_minutes=10,  # Timeout for each trial\n",
        "    max_trials=5,  # Maximum number of trials\n",
        "    enable_early_termination=True  # Stop trials that do not improve performance\n",
        ")\n",
        "\n"
      ],
      "outputs": [],
      "execution_count": 4,
      "metadata": {
        "jupyter": {
          "source_hidden": false,
          "outputs_hidden": false
        },
        "nteract": {
          "transient": {
            "deleting": false
          }
        },
        "gather": {
          "logged": 1736784489481
        }
      }
    },
    {
      "cell_type": "code",
      "source": [
        "# Submit the regression job\n",
        "returned_job = ml_client.jobs.create_or_update(regression_job)\n",
        "\n",
        "# Print the Studio URL for manual monitoring\n",
        "aml_url = returned_job.studio_url\n",
        "print(\"Monitor your job at\", aml_url)\n",
        "\n",
        "# Stream logs for real-time updates\n",
        "print(\"Waiting for the job to complete...\")\n",
        "ml_client.jobs.stream(returned_job.name)\n"
      ],
      "outputs": [
        {
          "output_type": "stream",
          "name": "stdout",
          "text": "Monitor your job at https://ml.azure.com/runs/mighty_house_tq7m3j2crf?wsid=/subscriptions/43be7692-0d67-4524-a6de-08c117967d94/resourcegroups/ML_Project/workspaces/mlproject&tid=104704fd-f711-4575-99d5-8a6588951c90\nWaiting for the job to complete...\nRunId: mighty_house_tq7m3j2crf\nWeb View: https://ml.azure.com/runs/mighty_house_tq7m3j2crf?wsid=/subscriptions/43be7692-0d67-4524-a6de-08c117967d94/resourcegroups/ML_Project/workspaces/mlproject\n\nExecution Summary\n=================\nRunId: mighty_house_tq7m3j2crf\nWeb View: https://ml.azure.com/runs/mighty_house_tq7m3j2crf?wsid=/subscriptions/43be7692-0d67-4524-a6de-08c117967d94/resourcegroups/ML_Project/workspaces/mlproject\n\n"
        }
      ],
      "execution_count": 5,
      "metadata": {
        "jupyter": {
          "source_hidden": false,
          "outputs_hidden": false
        },
        "nteract": {
          "transient": {
            "deleting": false
          }
        },
        "gather": {
          "logged": 1736784964440
        }
      }
    }
  ],
  "metadata": {
    "kernelspec": {
      "name": "python310-sdkv2",
      "language": "python",
      "display_name": "Python 3.10 - SDK v2"
    },
    "language_info": {
      "name": "python",
      "version": "3.10.14",
      "mimetype": "text/x-python",
      "codemirror_mode": {
        "name": "ipython",
        "version": 3
      },
      "pygments_lexer": "ipython3",
      "nbconvert_exporter": "python",
      "file_extension": ".py"
    },
    "microsoft": {
      "ms_spell_check": {
        "ms_spell_check_language": "en"
      },
      "host": {
        "AzureML": {
          "notebookHasBeenCompleted": true
        }
      }
    },
    "kernel_info": {
      "name": "python310-sdkv2"
    },
    "nteract": {
      "version": "nteract-front-end@1.0.0"
    }
  },
  "nbformat": 4,
  "nbformat_minor": 2
}